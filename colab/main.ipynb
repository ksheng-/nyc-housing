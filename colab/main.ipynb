{
  "nbformat": 4,
  "nbformat_minor": 0,
  "metadata": {
    "colab": {
      "name": "main.ipynb",
      "version": "0.3.2",
      "provenance": [],
      "private_outputs": true,
      "collapsed_sections": [],
      "include_colab_link": true
    },
    "kernelspec": {
      "name": "python3",
      "display_name": "Python 3"
    },
    "accelerator": "GPU"
  },
  "cells": [
    {
      "cell_type": "markdown",
      "metadata": {
        "id": "view-in-github",
        "colab_type": "text"
      },
      "source": [
        "<a href=\"https://colab.research.google.com/github/ksheng-/nyc-housing/blob/master/colab/main.ipynb\" target=\"_parent\"><img src=\"https://colab.research.google.com/assets/colab-badge.svg\" alt=\"Open In Colab\"/></a>"
      ]
    },
    {
      "metadata": {
        "id": "FjWMMiDRgp7K",
        "colab_type": "text"
      },
      "cell_type": "markdown",
      "source": [
        "# Imports"
      ]
    },
    {
      "metadata": {
        "id": "0K0_4enIQfO7",
        "colab_type": "code",
        "colab": {}
      },
      "cell_type": "code",
      "source": [
        "import requests\n",
        "import psycopg2\n",
        "import pprint\n",
        "import altair as alt\n",
        "import pandas as pd\n",
        "import numpy as np"
      ],
      "execution_count": 0,
      "outputs": []
    },
    {
      "metadata": {
        "id": "kh0l0FBVg3ih",
        "colab_type": "text"
      },
      "cell_type": "markdown",
      "source": [
        "# Retrieve and clean data"
      ]
    },
    {
      "metadata": {
        "id": "-xH3UV64g01Z",
        "colab_type": "code",
        "colab": {}
      },
      "cell_type": "code",
      "source": [
        "gross_income = pd.read_csv('http://taxbills.nyc/gross_income.csv', dtype={'bbl': str})\n",
        "print(gross_income)"
      ],
      "execution_count": 0,
      "outputs": []
    },
    {
      "metadata": {
        "id": "bbIeQCYniZrA",
        "colab_type": "code",
        "colab": {}
      },
      "cell_type": "code",
      "source": [
        "# Manhattan only\n",
        "gross_income_ = gross_income[gross_income['bbl'].str[0] == '1']\n",
        "gross_income_ = gross_income_\n",
        "print(gross_income_)"
      ],
      "execution_count": 0,
      "outputs": []
    },
    {
      "metadata": {
        "id": "gybJe_6Zj3pY",
        "colab_type": "code",
        "colab": {}
      },
      "cell_type": "code",
      "source": [
        "gross_income = gross_income.fillna(np.nan)\n",
        "gross_income['income07'] = gross_income['income07']/gross_income['unitstotal']\n",
        "gross_income['income09'] = gross_income['income09']/gross_income['unitstotal']\n",
        "gross_income['income12'] = gross_income['income12']/gross_income['unitstotal']\n",
        "gross_income['income14'] = gross_income['income14']/gross_income['unitstotal']\n",
        "gross_income2 = gross_income.sample(5000)\n",
        "gross_income3 = data2"
      ],
      "execution_count": 0,
      "outputs": []
    },
    {
      "metadata": {
        "id": "mUUdbfx-QfPD",
        "colab_type": "code",
        "colab": {}
      },
      "cell_type": "code",
      "source": [
        "gross_income3['income07'] = (gross_income2['income07']-np.nanmean(gross_income2['income07']))/np.nanstd(gross_income2['income07'])\n",
        "gross_income3['income07'] = gross_income3['income07'].clip(-2,2)\n",
        "gross_income3['income09'] = (gross_income2['income09']-np.nanmean(gross_income2['income09']))/np.nanstd(gross_income2['income09'])\n",
        "gross_income3['income09'] = gross_income3['income09'].clip(-2,2)\n",
        "gross_income3['income14'] = (gross_income2['income14']-np.nanmean(gross_income2['income14']))/np.nanstd(gross_income2['income14'])\n",
        "gross_income3['income14'] = gross_income3['income14'].clip(-2,2)"
      ],
      "execution_count": 0,
      "outputs": []
    },
    {
      "metadata": {
        "id": "TKSXQBmkQfPH",
        "colab_type": "code",
        "colab": {}
      },
      "cell_type": "code",
      "source": [
        "alt.Chart(gross_income2).mark_circle(size=8).encode(\n",
        "    longitude='lon:Q',\n",
        "    latitude='lat:Q',\n",
        "    color='income07:Q'\n",
        ").properties(\n",
        "    width=200,\n",
        "    height=500\n",
        ")\n"
      ],
      "execution_count": 0,
      "outputs": []
    },
    {
      "metadata": {
        "id": "25Q_RQJxQfPP",
        "colab_type": "code",
        "colab": {}
      },
      "cell_type": "code",
      "source": [
        "alt.Chart(gross_income3).mark_circle(size=8).encode(\n",
        "    longitude='lon:Q',\n",
        "    latitude='lat:Q',\n",
        "    color='income09:Q'\n",
        ").properties(\n",
        "    width=200,\n",
        "    height=500\n",
        ")\n"
      ],
      "execution_count": 0,
      "outputs": []
    },
    {
      "metadata": {
        "id": "iOXp15t_QfPU",
        "colab_type": "code",
        "colab": {}
      },
      "cell_type": "code",
      "source": [
        "alt.Chart(gross_income3).mark_circle(size=8).encode(\n",
        "    longitude='lon:Q',\n",
        "    latitude='lat:Q',\n",
        "    color='income14:Q'\n",
        ").properties(\n",
        "    width=200,\n",
        "    height=500\n",
        ")\n"
      ],
      "execution_count": 0,
      "outputs": []
    }
  ]
}