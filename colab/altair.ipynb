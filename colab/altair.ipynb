{
  "nbformat": 4,
  "nbformat_minor": 0,
  "metadata": {
    "colab": {
      "name": "altair.ipynb",
      "version": "0.3.2",
      "provenance": [],
      "private_outputs": true,
      "collapsed_sections": [],
      "toc_visible": true,
      "include_colab_link": true
    },
    "kernelspec": {
      "name": "python3",
      "display_name": "Python 3"
    },
    "accelerator": "GPU"
  },
  "cells": [
    {
      "cell_type": "markdown",
      "metadata": {
        "id": "view-in-github",
        "colab_type": "text"
      },
      "source": [
        "<a href=\"https://colab.research.google.com/github/ksheng-/nyc-housing/blob/master/colab/altair.ipynb\" target=\"_parent\"><img src=\"https://colab.research.google.com/assets/colab-badge.svg\" alt=\"Open In Colab\"/></a>"
      ]
    },
    {
      "metadata": {
        "id": "FjWMMiDRgp7K",
        "colab_type": "text"
      },
      "cell_type": "markdown",
      "source": [
        "# Dependencies and modules"
      ]
    },
    {
      "metadata": {
        "id": "7ioQXsjI5F3n",
        "colab_type": "code",
        "colab": {}
      },
      "cell_type": "code",
      "source": [
        "!pip install --upgrade geopandas"
      ],
      "execution_count": 0,
      "outputs": []
    },
    {
      "metadata": {
        "id": "0K0_4enIQfO7",
        "colab_type": "code",
        "colab": {}
      },
      "cell_type": "code",
      "source": [
        "import requests\n",
        "import psycopg2\n",
        "import psycopg2.extras\n",
        "import pprint\n",
        "import altair as alt\n",
        "import pandas as pd\n",
        "import numpy as np\n",
        "from vega_datasets import data"
      ],
      "execution_count": 0,
      "outputs": []
    },
    {
      "metadata": {
        "id": "kh0l0FBVg3ih",
        "colab_type": "text"
      },
      "cell_type": "markdown",
      "source": [
        "# Retrieve and clean data"
      ]
    },
    {
      "metadata": {
        "id": "A_jmzZkAW20Z",
        "colab_type": "text"
      },
      "cell_type": "markdown",
      "source": [
        "## Gross income"
      ]
    },
    {
      "metadata": {
        "id": "-xH3UV64g01Z",
        "colab_type": "code",
        "colab": {}
      },
      "cell_type": "code",
      "source": [
        "gross_income = pd.read_csv('http://taxbills.nyc/gross_income.csv', dtype={'bbl': str})"
      ],
      "execution_count": 0,
      "outputs": []
    },
    {
      "metadata": {
        "id": "bbIeQCYniZrA",
        "colab_type": "code",
        "colab": {}
      },
      "cell_type": "code",
      "source": [
        "# manhattan only\n",
        "gross_income_ = gross_income[gross_income['bbl'].str[0] == '1']\n",
        "\n",
        "# drop columns without coordinates\n",
        "gross_income_ = gross_income_.dropna(subset=['lon', 'lat', 'unitstotal'])\n",
        "gross_income_ = gross_income_[gross_income_['unitstotal'] != 0]\n",
        "\n",
        "# normalize yearly income by # units\n",
        "income_cols = ['income' + str(i).zfill(2) for i in range(7, 15)]\n",
        "normalized_cols = [s + '_normalized' for s in income_cols]\n",
        "gross_income_[normalized_cols] = gross_income_[income_cols].div(gross_income_['unitstotal'], axis=0)\n",
        "gross_income_ = gross_income_.sample(5000)\n",
        "gross_income_.hist(column=normalized_cols, bins=100)\n",
        "print(np.nanmean(gross_income_[normalized_cols]))\n",
        "print(np.nanstd(gross_income_[normalized_cols]))\n",
        "gross_income_[normalized_cols] = (gross_income_[normalized_cols] - np.nanmean(gross_income_[normalized_cols]) / np.nanstd(gross_income_[normalized_cols])).clip(-2, 2)\n"
      ],
      "execution_count": 0,
      "outputs": []
    },
    {
      "metadata": {
        "id": "nhs6PTt0W6Oo",
        "colab_type": "text"
      },
      "cell_type": "markdown",
      "source": [
        "## Rent stabilization"
      ]
    },
    {
      "metadata": {
        "id": "9guvLLWQW6iy",
        "colab_type": "code",
        "colab": {}
      },
      "cell_type": "code",
      "source": [
        "conn_params = {\n",
        "    'host': '157.230.184.188',\n",
        "    'dbname': 'nyc_db',\n",
        "    'user': 'postgres',\n",
        "    'password': 'password'\n",
        "}\n",
        "conn = psycopg2.connect(**conn_params)\n",
        "\n",
        "query = '''\n",
        "    WITH hpd AS (\n",
        "        SELECT bbl, count(*) \n",
        "        AS nviolations\n",
        "        FROM hpd_violations\n",
        "        GROUP BY bbl\n",
        "    )\n",
        "    SELECT rentstab.ucbbl, address, ownername, lat, lon, nviolations, corpnames, ownernames,\n",
        "        unitsres, unitstotal, uc2007, uc2008, uc2009, uc2010, uc2011, uc2012, uc2013, uc2014, uc2014 - uc2007 as diff, (uc2014 - uc2007) / unitstotal::decimal as pct\n",
        "    FROM rentstab\n",
        "    INNER JOIN hpd\n",
        "      ON rentstab.ucbbl = hpd.bbl\n",
        "    INNER JOIN hpd_registrations_grouped_by_bbl_with_contacts AS registrations \n",
        "      ON hpd.bbl = registrations.bbl\n",
        "    WHERE borough = 'MN'\n",
        "      AND unitstotal > 0\n",
        "      AND uc2014 IS NOT NULL\n",
        "'''\n",
        "\n",
        "rent_stab = pd.read_sql(query, conn)"
      ],
      "execution_count": 0,
      "outputs": []
    },
    {
      "metadata": {
        "id": "wqR2VLnGWtJo",
        "colab_type": "text"
      },
      "cell_type": "markdown",
      "source": [
        "## Geodata"
      ]
    },
    {
      "metadata": {
        "id": "-aOW_WaqyPE9",
        "colab_type": "code",
        "colab": {}
      },
      "cell_type": "code",
      "source": [
        "# use geopandas to manipulate geojson files (altair datasets are topojson but geojson is more common): https://github.com/altair-viz/altair/issues/588\n",
        "import geopandas as gpd\n",
        "\n",
        "# bureau boundaries: https://data.cityofnewyork.us/City-Government/Borough-Boundaries/tqmj-j8zm\n",
        "data = requests.get('https://data.cityofnewyork.us/api/geospatial/tqmj-j8zm?method=export&format=GeoJSON').json()\n",
        "bureau_boundaries_gdf = gpd.GeoDataFrame.from_features(data)\n",
        "bureau_boundaries_gdf = bureau_boundaries_gdf[bureau_boundaries_gdf['boro_name'] == \"Manhattan\"]\n",
        "bureau_boundaries = alt.InlineData(values=bureau_boundaries_gdf.to_json(), format=alt.DataFormat(property='features',type='json'))\n",
        "\n",
        "# subway lines: https://data.cityofnewyork.us/Transportation/Subway-Lines/3qz8-muuu\n",
        "data = requests.get('https://data.cityofnewyork.us/api/geospatial/3qz8-muuu?method=export&format=GeoJSON').json()\n",
        "\n",
        "subway_lines_gdf = gpd.GeoDataFrame.from_features(data)\n",
        "\n",
        "xmin, ymin, xmax, ymax = bureau_boundaries_gdf.total_bounds\n",
        "subway_lines_gdf = subway_lines_gdf.cx[xmin:xmax, ymin:ymax]\n",
        "\n",
        "subway_lines = alt.InlineData(values=subway_lines_gdf.to_json(), format=alt.DataFormat(property='features', type='json'))"
      ],
      "execution_count": 0,
      "outputs": []
    },
    {
      "metadata": {
        "id": "SPL2JB-3WmE5",
        "colab_type": "text"
      },
      "cell_type": "markdown",
      "source": [
        "# Render charts"
      ]
    },
    {
      "metadata": {
        "id": "TKSXQBmkQfPH",
        "colab_type": "code",
        "colab": {}
      },
      "cell_type": "code",
      "source": [
        "c0 = alt.Chart(gross_income_).mark_circle(size=8).encode(\n",
        "    alt.Color(alt.repeat('column'), type='quantitative'),\n",
        "    longitude='lon:Q',\n",
        "    latitude='lat:Q'\n",
        ")\n",
        "c1 = alt.Chart(bureau_boundaries).mark_geoshape(fillOpacity=0, color='gray', stroke='gray').encode(\n",
        "    tooltip='properties.boro_name:N'\n",
        ")\n",
        "\n",
        "c2 = alt.Chart(subway_lines).mark_geoshape(opacity=.1, fillOpacity=0, stroke='red').encode(\n",
        "    tooltip='properties.name:N'\n",
        ")\n",
        "\n",
        "(c0 + c1 + c2).properties(width=200, height=400).repeat(\n",
        "    column=[normalized_cols[i] for i in [0, 2, 5, 7]],\n",
        ")"
      ],
      "execution_count": 0,
      "outputs": []
    },
    {
      "metadata": {
        "id": "25Q_RQJxQfPP",
        "colab_type": "code",
        "colab": {}
      },
      "cell_type": "code",
      "source": [
        "alt.Chart(gross_income3).mark_circle(size=8).encode(\n",
        "    longitude='lon:Q',\n",
        "    latitude='lat:Q',\n",
        "    color='income09:Q'\n",
        ").properties(\n",
        "    width=200,\n",
        "    height=500\n",
        ")\n"
      ],
      "execution_count": 0,
      "outputs": []
    },
    {
      "metadata": {
        "id": "iOXp15t_QfPU",
        "colab_type": "code",
        "colab": {}
      },
      "cell_type": "code",
      "source": [
        "alt.Chart(gross_income3).mark_circle(size=8).encode(\n",
        "    longitude='lon:Q',\n",
        "    latitude='lat:Q',\n",
        "    color='income14:Q'\n",
        ").properties(\n",
        "    width=200,\n",
        "    height=500\n",
        ")\n"
      ],
      "execution_count": 0,
      "outputs": []
    }
  ]
}